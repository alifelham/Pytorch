{
  "nbformat": 4,
  "nbformat_minor": 0,
  "metadata": {
    "colab": {
      "provenance": [],
      "authorship_tag": "ABX9TyOfdpqiMclmgJxqTLNxgJ6l"
    },
    "kernelspec": {
      "name": "python3",
      "display_name": "Python 3"
    },
    "language_info": {
      "name": "python"
    }
  },
  "cells": [
    {
      "cell_type": "code",
      "execution_count": 1,
      "metadata": {
        "colab": {
          "base_uri": "https://localhost:8080/"
        },
        "id": "Om5GbCbmRqIU",
        "outputId": "f2850384-1c9e-4e1e-cd6d-56202928edad"
      },
      "outputs": [
        {
          "output_type": "stream",
          "name": "stdout",
          "text": [
            "1.12.1+cu113\n"
          ]
        }
      ],
      "source": [
        "import torch\n",
        "import pandas as pd\n",
        "import numpy as np\n",
        "\n",
        "print(torch.__version__)"
      ]
    },
    {
      "cell_type": "markdown",
      "source": [
        "# Introduction to Tensors\n",
        "## Creating Scalars, Vectors, Matrices, Tensors"
      ],
      "metadata": {
        "id": "fM-ldVpBR5Ra"
      }
    },
    {
      "cell_type": "markdown",
      "source": [
        "![tensor.jpeg](data:image/jpeg;base64,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)"
      ],
      "metadata": {
        "id": "JoJ0u-MoSOJW"
      }
    },
    {
      "cell_type": "markdown",
      "source": [
        "1.   A scalar is a single number\n",
        "2.   A vector is an array of numbers.\n",
        "3.   A matrix is a 2-D array\n",
        "4.   A tensor is a n-dimensional array with n >2\n"
      ],
      "metadata": {
        "id": "mmeWXxEuSSIz"
      }
    },
    {
      "cell_type": "markdown",
      "source": [
        "## SCALAR"
      ],
      "metadata": {
        "id": "h_tSFwe6SXgf"
      }
    },
    {
      "cell_type": "code",
      "source": [
        "# Scalar\n",
        "\n",
        "# creating a tensor \n",
        "\n",
        "scalar = torch.tensor(7)\n",
        "scalar"
      ],
      "metadata": {
        "colab": {
          "base_uri": "https://localhost:8080/"
        },
        "id": "WO0Qu72bSbT4",
        "outputId": "fe74bc2d-7d46-4577-b285-175e79e7bb02"
      },
      "execution_count": 2,
      "outputs": [
        {
          "output_type": "execute_result",
          "data": {
            "text/plain": [
              "tensor(7)"
            ]
          },
          "metadata": {},
          "execution_count": 2
        }
      ]
    },
    {
      "cell_type": "code",
      "source": [
        "# number of dimensions \n",
        "scalar.ndim"
      ],
      "metadata": {
        "colab": {
          "base_uri": "https://localhost:8080/"
        },
        "id": "KihImSlrSe39",
        "outputId": "9f0cbb5b-77eb-4e6e-c354-df3dcd73cd0a"
      },
      "execution_count": 3,
      "outputs": [
        {
          "output_type": "execute_result",
          "data": {
            "text/plain": [
              "0"
            ]
          },
          "metadata": {},
          "execution_count": 3
        }
      ]
    },
    {
      "cell_type": "code",
      "source": [
        "# get tensor back as python int \n",
        "\n",
        "scalar.item()"
      ],
      "metadata": {
        "colab": {
          "base_uri": "https://localhost:8080/"
        },
        "id": "nl1OD3koSg3y",
        "outputId": "838e34be-7f8e-426d-d352-a17fc290c0ba"
      },
      "execution_count": 4,
      "outputs": [
        {
          "output_type": "execute_result",
          "data": {
            "text/plain": [
              "7"
            ]
          },
          "metadata": {},
          "execution_count": 4
        }
      ]
    },
    {
      "cell_type": "markdown",
      "source": [
        "## VECTOR"
      ],
      "metadata": {
        "id": "aCfIjMKdSiwq"
      }
    },
    {
      "cell_type": "code",
      "source": [
        "# vector \n",
        "\n",
        "vector = torch.tensor([7, 7])\n",
        "vector"
      ],
      "metadata": {
        "colab": {
          "base_uri": "https://localhost:8080/"
        },
        "id": "zKI3dtBCSzwf",
        "outputId": "bd50a788-d5f3-48c4-8fb5-9fc3c9b3b5fa"
      },
      "execution_count": 5,
      "outputs": [
        {
          "output_type": "execute_result",
          "data": {
            "text/plain": [
              "tensor([7, 7])"
            ]
          },
          "metadata": {},
          "execution_count": 5
        }
      ]
    },
    {
      "cell_type": "code",
      "source": [
        "#dimensions \n",
        "vector.ndim"
      ],
      "metadata": {
        "colab": {
          "base_uri": "https://localhost:8080/"
        },
        "id": "II2wUXZcS2KA",
        "outputId": "4561491c-797c-4525-b4c9-f7d47965c75e"
      },
      "execution_count": 6,
      "outputs": [
        {
          "output_type": "execute_result",
          "data": {
            "text/plain": [
              "1"
            ]
          },
          "metadata": {},
          "execution_count": 6
        }
      ]
    },
    {
      "cell_type": "code",
      "source": [
        "vector.shape"
      ],
      "metadata": {
        "colab": {
          "base_uri": "https://localhost:8080/"
        },
        "id": "nKka2JM-S4R6",
        "outputId": "9114d2d1-3fcd-4816-c51c-576ad43bd985"
      },
      "execution_count": 7,
      "outputs": [
        {
          "output_type": "execute_result",
          "data": {
            "text/plain": [
              "torch.Size([2])"
            ]
          },
          "metadata": {},
          "execution_count": 7
        }
      ]
    },
    {
      "cell_type": "markdown",
      "source": [
        "## MATRIX"
      ],
      "metadata": {
        "id": "KeUM6sD1S9OZ"
      }
    },
    {
      "cell_type": "code",
      "source": [
        "matrix = torch.tensor([[1,2],\n",
        "                       [2,3]])\n",
        "matrix"
      ],
      "metadata": {
        "colab": {
          "base_uri": "https://localhost:8080/"
        },
        "id": "ETkeGecCTT4u",
        "outputId": "e3d1d59a-154f-4fc0-f06b-9cc3508978b4"
      },
      "execution_count": 8,
      "outputs": [
        {
          "output_type": "execute_result",
          "data": {
            "text/plain": [
              "tensor([[1, 2],\n",
              "        [2, 3]])"
            ]
          },
          "metadata": {},
          "execution_count": 8
        }
      ]
    },
    {
      "cell_type": "code",
      "source": [
        "matrix.ndim"
      ],
      "metadata": {
        "colab": {
          "base_uri": "https://localhost:8080/"
        },
        "id": "Kjmsry2cTWKS",
        "outputId": "92a8064c-eb05-4b04-8448-988de90389d9"
      },
      "execution_count": 9,
      "outputs": [
        {
          "output_type": "execute_result",
          "data": {
            "text/plain": [
              "2"
            ]
          },
          "metadata": {},
          "execution_count": 9
        }
      ]
    },
    {
      "cell_type": "code",
      "source": [
        "matrix.shape"
      ],
      "metadata": {
        "colab": {
          "base_uri": "https://localhost:8080/"
        },
        "id": "nK3gBguFTX-R",
        "outputId": "b8d63bd0-9b16-4855-9105-514bf82c5b91"
      },
      "execution_count": 10,
      "outputs": [
        {
          "output_type": "execute_result",
          "data": {
            "text/plain": [
              "torch.Size([2, 2])"
            ]
          },
          "metadata": {},
          "execution_count": 10
        }
      ]
    },
    {
      "cell_type": "code",
      "source": [
        "# access first dim element \n",
        "\n",
        "matrix[0]"
      ],
      "metadata": {
        "colab": {
          "base_uri": "https://localhost:8080/"
        },
        "id": "km8zKhhVTZ3v",
        "outputId": "52842c29-cb34-417d-d0d0-210eca92f362"
      },
      "execution_count": 11,
      "outputs": [
        {
          "output_type": "execute_result",
          "data": {
            "text/plain": [
              "tensor([1, 2])"
            ]
          },
          "metadata": {},
          "execution_count": 11
        }
      ]
    },
    {
      "cell_type": "markdown",
      "source": [
        "## TENSOR"
      ],
      "metadata": {
        "id": "sP-lgdXNTbqN"
      }
    },
    {
      "cell_type": "code",
      "source": [
        "TENSOR = torch.tensor([[[1, 2], [3, 2], [1, 7]]])\n",
        "\n",
        "TENSOR"
      ],
      "metadata": {
        "colab": {
          "base_uri": "https://localhost:8080/"
        },
        "id": "5_wO5pi14L7q",
        "outputId": "126e8320-7d3d-44a9-85aa-2af60c41fdeb"
      },
      "execution_count": 12,
      "outputs": [
        {
          "output_type": "execute_result",
          "data": {
            "text/plain": [
              "tensor([[[1, 2],\n",
              "         [3, 2],\n",
              "         [1, 7]]])"
            ]
          },
          "metadata": {},
          "execution_count": 12
        }
      ]
    },
    {
      "cell_type": "code",
      "source": [
        "TENSOR.ndim"
      ],
      "metadata": {
        "colab": {
          "base_uri": "https://localhost:8080/"
        },
        "id": "jphXccyH4Q7s",
        "outputId": "ebf3271a-ed0a-4ca7-e15a-ab0c5a574350"
      },
      "execution_count": 13,
      "outputs": [
        {
          "output_type": "execute_result",
          "data": {
            "text/plain": [
              "3"
            ]
          },
          "metadata": {},
          "execution_count": 13
        }
      ]
    },
    {
      "cell_type": "code",
      "source": [
        "TENSOR.shape\n",
        "\n",
        "# torch.Size([1, 3, 2]) tells that it is a 3D tensor with one 3 by 2 matrix"
      ],
      "metadata": {
        "colab": {
          "base_uri": "https://localhost:8080/"
        },
        "id": "Sjb5ucCO4TjH",
        "outputId": "ff91dd63-63c1-478b-8b8f-afe9462a0937"
      },
      "execution_count": 14,
      "outputs": [
        {
          "output_type": "execute_result",
          "data": {
            "text/plain": [
              "torch.Size([1, 3, 2])"
            ]
          },
          "metadata": {},
          "execution_count": 14
        }
      ]
    }
  ]
}